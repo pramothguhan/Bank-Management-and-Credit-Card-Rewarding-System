{
 "cells": [
  {
   "cell_type": "markdown",
   "id": "6b5549ea",
   "metadata": {},
   "source": [
    "## MySQL Connection Implementation"
   ]
  },
  {
   "cell_type": "code",
   "execution_count": 1,
   "id": "e3407f58",
   "metadata": {},
   "outputs": [],
   "source": [
    "import mysql.connector\n",
    "import pandas as pd\n",
    "import matplotlib.pyplot as plt\n",
    "from sqlalchemy import create_engine"
   ]
  },
  {
   "cell_type": "code",
   "execution_count": 2,
   "id": "8412aa5b",
   "metadata": {},
   "outputs": [],
   "source": [
    "connection = mysql.connector.connect(\n",
    "        host='localhost',\n",
    "        database='bank_database',\n",
    "        user='root',\n",
    "        password='pramothguhan12',\n",
    "\n",
    "    )"
   ]
  },
  {
   "cell_type": "code",
   "execution_count": 3,
   "id": "a1499c79",
   "metadata": {},
   "outputs": [
    {
     "name": "stdout",
     "output_type": "stream",
     "text": [
      "Connected to MySQL Server version 8.0.36\n"
     ]
    }
   ],
   "source": [
    "if connection.is_connected():\n",
    "        db_Info = connection.get_server_info()\n",
    "        print(f\"Connected to MySQL Server version {db_Info}\")\n",
    "\n",
    "        \n",
    "        cursor = connection.cursor()"
   ]
  },
  {
   "cell_type": "code",
   "execution_count": 4,
   "id": "17616ade",
   "metadata": {},
   "outputs": [
    {
     "data": {
      "text/plain": [
       "<mysql.connector.connection_cext.CMySQLConnection at 0x21a952f2790>"
      ]
     },
     "execution_count": 4,
     "metadata": {},
     "output_type": "execute_result"
    }
   ],
   "source": [
    "connection"
   ]
  },
  {
   "cell_type": "markdown",
   "id": "41e40f3e",
   "metadata": {},
   "source": [
    "## Query Implementation"
   ]
  },
  {
   "cell_type": "code",
   "execution_count": 5,
   "id": "35da1945",
   "metadata": {},
   "outputs": [
    {
     "name": "stderr",
     "output_type": "stream",
     "text": [
      "C:\\Users\\pramo\\anaconda3\\lib\\site-packages\\pandas\\io\\sql.py:761: UserWarning: pandas only support SQLAlchemy connectable(engine/connection) ordatabase string URI or sqlite3 DBAPI2 connectionother DBAPI2 objects are not tested, please consider using SQLAlchemy\n",
      "  warnings.warn(\n"
     ]
    },
    {
     "data": {
      "text/html": [
       "<div>\n",
       "<style scoped>\n",
       "    .dataframe tbody tr th:only-of-type {\n",
       "        vertical-align: middle;\n",
       "    }\n",
       "\n",
       "    .dataframe tbody tr th {\n",
       "        vertical-align: top;\n",
       "    }\n",
       "\n",
       "    .dataframe thead th {\n",
       "        text-align: right;\n",
       "    }\n",
       "</style>\n",
       "<table border=\"1\" class=\"dataframe\">\n",
       "  <thead>\n",
       "    <tr style=\"text-align: right;\">\n",
       "      <th></th>\n",
       "      <th>EMPLOYEE ID</th>\n",
       "      <th>EMPLOYEE NAME</th>\n",
       "      <th>EMPLOYEE EMAIL</th>\n",
       "      <th>SALARY</th>\n",
       "      <th>BRANCH ID</th>\n",
       "    </tr>\n",
       "  </thead>\n",
       "  <tbody>\n",
       "    <tr>\n",
       "      <th>0</th>\n",
       "      <td>555</td>\n",
       "      <td>Tonia Schermick</td>\n",
       "      <td>tschermick0@cnbc.com</td>\n",
       "      <td>5358.86</td>\n",
       "      <td>2808</td>\n",
       "    </tr>\n",
       "    <tr>\n",
       "      <th>1</th>\n",
       "      <td>839</td>\n",
       "      <td>Derrick Bettenay</td>\n",
       "      <td>dbettenay1@netvibes.com</td>\n",
       "      <td>7313.88</td>\n",
       "      <td>2946</td>\n",
       "    </tr>\n",
       "    <tr>\n",
       "      <th>2</th>\n",
       "      <td>506</td>\n",
       "      <td>Sharyl Yankov</td>\n",
       "      <td>syankov2@elpais.com</td>\n",
       "      <td>7048.32</td>\n",
       "      <td>2508</td>\n",
       "    </tr>\n",
       "    <tr>\n",
       "      <th>3</th>\n",
       "      <td>714</td>\n",
       "      <td>Marcella Allbones</td>\n",
       "      <td>mallbones3@bizjournals.com</td>\n",
       "      <td>7148.82</td>\n",
       "      <td>3021</td>\n",
       "    </tr>\n",
       "    <tr>\n",
       "      <th>4</th>\n",
       "      <td>878</td>\n",
       "      <td>Desdemona MacParlan</td>\n",
       "      <td>dmacparlan4@bigcartel.com</td>\n",
       "      <td>9672.85</td>\n",
       "      <td>4131</td>\n",
       "    </tr>\n",
       "    <tr>\n",
       "      <th>...</th>\n",
       "      <td>...</td>\n",
       "      <td>...</td>\n",
       "      <td>...</td>\n",
       "      <td>...</td>\n",
       "      <td>...</td>\n",
       "    </tr>\n",
       "    <tr>\n",
       "      <th>95</th>\n",
       "      <td>300</td>\n",
       "      <td>Colas Handrik</td>\n",
       "      <td>chandrik2n@auda.org.au</td>\n",
       "      <td>4514.90</td>\n",
       "      <td>2847</td>\n",
       "    </tr>\n",
       "    <tr>\n",
       "      <th>96</th>\n",
       "      <td>124</td>\n",
       "      <td>Harv Allgood</td>\n",
       "      <td>hallgood2o@mediafire.com</td>\n",
       "      <td>6186.83</td>\n",
       "      <td>4720</td>\n",
       "    </tr>\n",
       "    <tr>\n",
       "      <th>97</th>\n",
       "      <td>406</td>\n",
       "      <td>Claudio Hunting</td>\n",
       "      <td>chunting2p@opensource.org</td>\n",
       "      <td>6566.09</td>\n",
       "      <td>1252</td>\n",
       "    </tr>\n",
       "    <tr>\n",
       "      <th>98</th>\n",
       "      <td>100</td>\n",
       "      <td>Sharyl Meenehan</td>\n",
       "      <td>smeenehan2q@addthis.com</td>\n",
       "      <td>7877.04</td>\n",
       "      <td>4826</td>\n",
       "    </tr>\n",
       "    <tr>\n",
       "      <th>99</th>\n",
       "      <td>701</td>\n",
       "      <td>Rawley Forestel</td>\n",
       "      <td>rforestel2r@foxnews.com</td>\n",
       "      <td>8518.41</td>\n",
       "      <td>4999</td>\n",
       "    </tr>\n",
       "  </tbody>\n",
       "</table>\n",
       "<p>100 rows × 5 columns</p>\n",
       "</div>"
      ],
      "text/plain": [
       "    EMPLOYEE ID        EMPLOYEE NAME              EMPLOYEE EMAIL   SALARY  \\\n",
       "0           555      Tonia Schermick        tschermick0@cnbc.com  5358.86   \n",
       "1           839     Derrick Bettenay     dbettenay1@netvibes.com  7313.88   \n",
       "2           506        Sharyl Yankov         syankov2@elpais.com  7048.32   \n",
       "3           714    Marcella Allbones  mallbones3@bizjournals.com  7148.82   \n",
       "4           878  Desdemona MacParlan   dmacparlan4@bigcartel.com  9672.85   \n",
       "..          ...                  ...                         ...      ...   \n",
       "95          300        Colas Handrik      chandrik2n@auda.org.au  4514.90   \n",
       "96          124         Harv Allgood    hallgood2o@mediafire.com  6186.83   \n",
       "97          406      Claudio Hunting   chunting2p@opensource.org  6566.09   \n",
       "98          100      Sharyl Meenehan     smeenehan2q@addthis.com  7877.04   \n",
       "99          701      Rawley Forestel     rforestel2r@foxnews.com  8518.41   \n",
       "\n",
       "    BRANCH ID  \n",
       "0        2808  \n",
       "1        2946  \n",
       "2        2508  \n",
       "3        3021  \n",
       "4        4131  \n",
       "..        ...  \n",
       "95       2847  \n",
       "96       4720  \n",
       "97       1252  \n",
       "98       4826  \n",
       "99       4999  \n",
       "\n",
       "[100 rows x 5 columns]"
      ]
     },
     "execution_count": 5,
     "metadata": {},
     "output_type": "execute_result"
    }
   ],
   "source": [
    "df = pd.read_sql_query(\"SELECT * FROM employee\", connection)\n",
    "df"
   ]
  },
  {
   "cell_type": "code",
   "execution_count": 6,
   "id": "183f9f01",
   "metadata": {
    "scrolled": true
   },
   "outputs": [
    {
     "name": "stderr",
     "output_type": "stream",
     "text": [
      "C:\\Users\\pramo\\anaconda3\\lib\\site-packages\\pandas\\io\\sql.py:761: UserWarning: pandas only support SQLAlchemy connectable(engine/connection) ordatabase string URI or sqlite3 DBAPI2 connectionother DBAPI2 objects are not tested, please consider using SQLAlchemy\n",
      "  warnings.warn(\n"
     ]
    },
    {
     "data": {
      "text/html": [
       "<div>\n",
       "<style scoped>\n",
       "    .dataframe tbody tr th:only-of-type {\n",
       "        vertical-align: middle;\n",
       "    }\n",
       "\n",
       "    .dataframe tbody tr th {\n",
       "        vertical-align: top;\n",
       "    }\n",
       "\n",
       "    .dataframe thead th {\n",
       "        text-align: right;\n",
       "    }\n",
       "</style>\n",
       "<table border=\"1\" class=\"dataframe\">\n",
       "  <thead>\n",
       "    <tr style=\"text-align: right;\">\n",
       "      <th></th>\n",
       "      <th>REWARD ID</th>\n",
       "      <th>REWARD AMOUNT</th>\n",
       "      <th>REQUEST DATE</th>\n",
       "      <th>REDEMPTION OPTION</th>\n",
       "      <th>CUSTOMER ID</th>\n",
       "    </tr>\n",
       "  </thead>\n",
       "  <tbody>\n",
       "    <tr>\n",
       "      <th>0</th>\n",
       "      <td>66067474</td>\n",
       "      <td>$1172.47</td>\n",
       "      <td>04/21/2022</td>\n",
       "      <td>COUPON</td>\n",
       "      <td>57849</td>\n",
       "    </tr>\n",
       "    <tr>\n",
       "      <th>1</th>\n",
       "      <td>15901910</td>\n",
       "      <td>$2667.44</td>\n",
       "      <td>07/29/2022</td>\n",
       "      <td>WEBSITE</td>\n",
       "      <td>42148</td>\n",
       "    </tr>\n",
       "    <tr>\n",
       "      <th>2</th>\n",
       "      <td>61884675</td>\n",
       "      <td>$3612.69</td>\n",
       "      <td>08-11-2023</td>\n",
       "      <td>APP</td>\n",
       "      <td>99941</td>\n",
       "    </tr>\n",
       "    <tr>\n",
       "      <th>3</th>\n",
       "      <td>48276456</td>\n",
       "      <td>$4060.61</td>\n",
       "      <td>04/29/2023</td>\n",
       "      <td>COUPON</td>\n",
       "      <td>37152</td>\n",
       "    </tr>\n",
       "    <tr>\n",
       "      <th>4</th>\n",
       "      <td>58233430</td>\n",
       "      <td>$2795.17</td>\n",
       "      <td>02-03-2023</td>\n",
       "      <td>APP</td>\n",
       "      <td>40824</td>\n",
       "    </tr>\n",
       "    <tr>\n",
       "      <th>5</th>\n",
       "      <td>51236128</td>\n",
       "      <td>$5175.59</td>\n",
       "      <td>01-06-2024</td>\n",
       "      <td>COUPON</td>\n",
       "      <td>82764</td>\n",
       "    </tr>\n",
       "    <tr>\n",
       "      <th>6</th>\n",
       "      <td>62919492</td>\n",
       "      <td>$603.09</td>\n",
       "      <td>10/31/2022</td>\n",
       "      <td>COUPON</td>\n",
       "      <td>66412</td>\n",
       "    </tr>\n",
       "    <tr>\n",
       "      <th>7</th>\n",
       "      <td>87440465</td>\n",
       "      <td>$3596.64</td>\n",
       "      <td>10/13/2023</td>\n",
       "      <td>COUPON</td>\n",
       "      <td>71486</td>\n",
       "    </tr>\n",
       "    <tr>\n",
       "      <th>8</th>\n",
       "      <td>56243724</td>\n",
       "      <td>$8769.97</td>\n",
       "      <td>05-01-2022</td>\n",
       "      <td>APP</td>\n",
       "      <td>19623</td>\n",
       "    </tr>\n",
       "    <tr>\n",
       "      <th>9</th>\n",
       "      <td>78616818</td>\n",
       "      <td>$4456.46</td>\n",
       "      <td>05-11-2022</td>\n",
       "      <td>COUPON</td>\n",
       "      <td>63798</td>\n",
       "    </tr>\n",
       "  </tbody>\n",
       "</table>\n",
       "</div>"
      ],
      "text/plain": [
       "   REWARD ID REWARD AMOUNT REQUEST DATE REDEMPTION OPTION  CUSTOMER ID\n",
       "0   66067474      $1172.47   04/21/2022            COUPON        57849\n",
       "1   15901910      $2667.44   07/29/2022           WEBSITE        42148\n",
       "2   61884675      $3612.69   08-11-2023               APP        99941\n",
       "3   48276456      $4060.61   04/29/2023            COUPON        37152\n",
       "4   58233430      $2795.17   02-03-2023               APP        40824\n",
       "5   51236128      $5175.59   01-06-2024            COUPON        82764\n",
       "6   62919492       $603.09   10/31/2022            COUPON        66412\n",
       "7   87440465      $3596.64   10/13/2023            COUPON        71486\n",
       "8   56243724      $8769.97   05-01-2022               APP        19623\n",
       "9   78616818      $4456.46   05-11-2022            COUPON        63798"
      ]
     },
     "execution_count": 6,
     "metadata": {},
     "output_type": "execute_result"
    }
   ],
   "source": [
    "df = pd.read_sql_query(\"SELECT * FROM reward;\", connection)\n",
    "df.head(10)"
   ]
  },
  {
   "cell_type": "code",
   "execution_count": 7,
   "id": "cec0457f",
   "metadata": {},
   "outputs": [
    {
     "name": "stderr",
     "output_type": "stream",
     "text": [
      "C:\\Users\\pramo\\anaconda3\\lib\\site-packages\\pandas\\io\\sql.py:761: UserWarning: pandas only support SQLAlchemy connectable(engine/connection) ordatabase string URI or sqlite3 DBAPI2 connectionother DBAPI2 objects are not tested, please consider using SQLAlchemy\n",
      "  warnings.warn(\n"
     ]
    },
    {
     "data": {
      "text/html": [
       "<div>\n",
       "<style scoped>\n",
       "    .dataframe tbody tr th:only-of-type {\n",
       "        vertical-align: middle;\n",
       "    }\n",
       "\n",
       "    .dataframe tbody tr th {\n",
       "        vertical-align: top;\n",
       "    }\n",
       "\n",
       "    .dataframe thead th {\n",
       "        text-align: right;\n",
       "    }\n",
       "</style>\n",
       "<table border=\"1\" class=\"dataframe\">\n",
       "  <thead>\n",
       "    <tr style=\"text-align: right;\">\n",
       "      <th></th>\n",
       "      <th>CUSTOMER ID</th>\n",
       "      <th>INCOME</th>\n",
       "      <th>BRANCH ID</th>\n",
       "    </tr>\n",
       "  </thead>\n",
       "  <tbody>\n",
       "    <tr>\n",
       "      <th>0</th>\n",
       "      <td>99808</td>\n",
       "      <td>$93011.26</td>\n",
       "      <td>4999</td>\n",
       "    </tr>\n",
       "    <tr>\n",
       "      <th>1</th>\n",
       "      <td>28273</td>\n",
       "      <td>$91975.45</td>\n",
       "      <td>2508</td>\n",
       "    </tr>\n",
       "    <tr>\n",
       "      <th>2</th>\n",
       "      <td>31971</td>\n",
       "      <td>$88840.39</td>\n",
       "      <td>2946</td>\n",
       "    </tr>\n",
       "    <tr>\n",
       "      <th>3</th>\n",
       "      <td>48478</td>\n",
       "      <td>$86338.92</td>\n",
       "      <td>4131</td>\n",
       "    </tr>\n",
       "    <tr>\n",
       "      <th>4</th>\n",
       "      <td>10271</td>\n",
       "      <td>$85718.19</td>\n",
       "      <td>4999</td>\n",
       "    </tr>\n",
       "    <tr>\n",
       "      <th>5</th>\n",
       "      <td>27260</td>\n",
       "      <td>$7856.16</td>\n",
       "      <td>2847</td>\n",
       "    </tr>\n",
       "    <tr>\n",
       "      <th>6</th>\n",
       "      <td>22858</td>\n",
       "      <td>$76483.65</td>\n",
       "      <td>2508</td>\n",
       "    </tr>\n",
       "    <tr>\n",
       "      <th>7</th>\n",
       "      <td>47870</td>\n",
       "      <td>$69730.82</td>\n",
       "      <td>2946</td>\n",
       "    </tr>\n",
       "    <tr>\n",
       "      <th>8</th>\n",
       "      <td>24816</td>\n",
       "      <td>$67659.02</td>\n",
       "      <td>4826</td>\n",
       "    </tr>\n",
       "    <tr>\n",
       "      <th>9</th>\n",
       "      <td>47555</td>\n",
       "      <td>$67461.52</td>\n",
       "      <td>4999</td>\n",
       "    </tr>\n",
       "  </tbody>\n",
       "</table>\n",
       "</div>"
      ],
      "text/plain": [
       "   CUSTOMER ID     INCOME  BRANCH ID\n",
       "0        99808  $93011.26       4999\n",
       "1        28273  $91975.45       2508\n",
       "2        31971  $88840.39       2946\n",
       "3        48478  $86338.92       4131\n",
       "4        10271  $85718.19       4999\n",
       "5        27260   $7856.16       2847\n",
       "6        22858  $76483.65       2508\n",
       "7        47870  $69730.82       2946\n",
       "8        24816  $67659.02       4826\n",
       "9        47555  $67461.52       4999"
      ]
     },
     "execution_count": 7,
     "metadata": {},
     "output_type": "execute_result"
    }
   ],
   "source": [
    "df = pd.read_sql_query(\"SELECT `CUSTOMER ID`, `INCOME`, `BRANCH ID` FROM `CUSTOMER` ORDER BY `INCOME` DESC LIMIT 10;\", connection)\n",
    "df.head(10)"
   ]
  },
  {
   "cell_type": "code",
   "execution_count": 8,
   "id": "585e8711",
   "metadata": {},
   "outputs": [
    {
     "name": "stderr",
     "output_type": "stream",
     "text": [
      "C:\\Users\\pramo\\anaconda3\\lib\\site-packages\\pandas\\io\\sql.py:761: UserWarning: pandas only support SQLAlchemy connectable(engine/connection) ordatabase string URI or sqlite3 DBAPI2 connectionother DBAPI2 objects are not tested, please consider using SQLAlchemy\n",
      "  warnings.warn(\n"
     ]
    },
    {
     "data": {
      "text/html": [
       "<div>\n",
       "<style scoped>\n",
       "    .dataframe tbody tr th:only-of-type {\n",
       "        vertical-align: middle;\n",
       "    }\n",
       "\n",
       "    .dataframe tbody tr th {\n",
       "        vertical-align: top;\n",
       "    }\n",
       "\n",
       "    .dataframe thead th {\n",
       "        text-align: right;\n",
       "    }\n",
       "</style>\n",
       "<table border=\"1\" class=\"dataframe\">\n",
       "  <thead>\n",
       "    <tr style=\"text-align: right;\">\n",
       "      <th></th>\n",
       "      <th>BRANCH ID</th>\n",
       "      <th>NUMBER_OF_CUSTOMERS</th>\n",
       "    </tr>\n",
       "  </thead>\n",
       "  <tbody>\n",
       "    <tr>\n",
       "      <th>0</th>\n",
       "      <td>2808</td>\n",
       "      <td>10</td>\n",
       "    </tr>\n",
       "    <tr>\n",
       "      <th>1</th>\n",
       "      <td>2946</td>\n",
       "      <td>10</td>\n",
       "    </tr>\n",
       "    <tr>\n",
       "      <th>2</th>\n",
       "      <td>2508</td>\n",
       "      <td>10</td>\n",
       "    </tr>\n",
       "    <tr>\n",
       "      <th>3</th>\n",
       "      <td>3021</td>\n",
       "      <td>10</td>\n",
       "    </tr>\n",
       "    <tr>\n",
       "      <th>4</th>\n",
       "      <td>4131</td>\n",
       "      <td>10</td>\n",
       "    </tr>\n",
       "    <tr>\n",
       "      <th>5</th>\n",
       "      <td>2847</td>\n",
       "      <td>10</td>\n",
       "    </tr>\n",
       "    <tr>\n",
       "      <th>6</th>\n",
       "      <td>4720</td>\n",
       "      <td>10</td>\n",
       "    </tr>\n",
       "    <tr>\n",
       "      <th>7</th>\n",
       "      <td>1252</td>\n",
       "      <td>10</td>\n",
       "    </tr>\n",
       "    <tr>\n",
       "      <th>8</th>\n",
       "      <td>4826</td>\n",
       "      <td>10</td>\n",
       "    </tr>\n",
       "    <tr>\n",
       "      <th>9</th>\n",
       "      <td>4999</td>\n",
       "      <td>10</td>\n",
       "    </tr>\n",
       "  </tbody>\n",
       "</table>\n",
       "</div>"
      ],
      "text/plain": [
       "   BRANCH ID  NUMBER_OF_CUSTOMERS\n",
       "0       2808                   10\n",
       "1       2946                   10\n",
       "2       2508                   10\n",
       "3       3021                   10\n",
       "4       4131                   10\n",
       "5       2847                   10\n",
       "6       4720                   10\n",
       "7       1252                   10\n",
       "8       4826                   10\n",
       "9       4999                   10"
      ]
     },
     "execution_count": 8,
     "metadata": {},
     "output_type": "execute_result"
    }
   ],
   "source": [
    "df = pd.read_sql_query(\"SELECT `BRANCH ID`, COUNT(`CUSTOMER ID`) AS NUMBER_OF_CUSTOMERS FROM CUSTOMER GROUP BY `BRANCH ID`;\", connection)\n",
    "df.head(10)"
   ]
  },
  {
   "cell_type": "code",
   "execution_count": 9,
   "id": "e8122b0a",
   "metadata": {},
   "outputs": [
    {
     "name": "stderr",
     "output_type": "stream",
     "text": [
      "C:\\Users\\pramo\\anaconda3\\lib\\site-packages\\pandas\\io\\sql.py:761: UserWarning: pandas only support SQLAlchemy connectable(engine/connection) ordatabase string URI or sqlite3 DBAPI2 connectionother DBAPI2 objects are not tested, please consider using SQLAlchemy\n",
      "  warnings.warn(\n"
     ]
    },
    {
     "data": {
      "text/html": [
       "<div>\n",
       "<style scoped>\n",
       "    .dataframe tbody tr th:only-of-type {\n",
       "        vertical-align: middle;\n",
       "    }\n",
       "\n",
       "    .dataframe tbody tr th {\n",
       "        vertical-align: top;\n",
       "    }\n",
       "\n",
       "    .dataframe thead th {\n",
       "        text-align: right;\n",
       "    }\n",
       "</style>\n",
       "<table border=\"1\" class=\"dataframe\">\n",
       "  <thead>\n",
       "    <tr style=\"text-align: right;\">\n",
       "      <th></th>\n",
       "      <th>TRANSACTION ID</th>\n",
       "      <th>TRANSACTION AMOUNT</th>\n",
       "      <th>TRANSACTION TIME</th>\n",
       "      <th>STATUS</th>\n",
       "      <th>CUSTOMER ID</th>\n",
       "    </tr>\n",
       "  </thead>\n",
       "  <tbody>\n",
       "    <tr>\n",
       "      <th>0</th>\n",
       "      <td>8341882</td>\n",
       "      <td>$42001.28</td>\n",
       "      <td>19:15:49</td>\n",
       "      <td>SUCCESS</td>\n",
       "      <td>57849</td>\n",
       "    </tr>\n",
       "    <tr>\n",
       "      <th>1</th>\n",
       "      <td>8299034</td>\n",
       "      <td>$28211.43</td>\n",
       "      <td>21:06:46</td>\n",
       "      <td>SUCCESS</td>\n",
       "      <td>37152</td>\n",
       "    </tr>\n",
       "    <tr>\n",
       "      <th>2</th>\n",
       "      <td>9968591</td>\n",
       "      <td>$38568.93</td>\n",
       "      <td>22:29:00</td>\n",
       "      <td>SUCCESS</td>\n",
       "      <td>82764</td>\n",
       "    </tr>\n",
       "    <tr>\n",
       "      <th>3</th>\n",
       "      <td>3247352</td>\n",
       "      <td>$56198.97</td>\n",
       "      <td>20:43:55</td>\n",
       "      <td>SUCCESS</td>\n",
       "      <td>63798</td>\n",
       "    </tr>\n",
       "    <tr>\n",
       "      <th>4</th>\n",
       "      <td>4507010</td>\n",
       "      <td>$2991.17</td>\n",
       "      <td>14:25:15</td>\n",
       "      <td>SUCCESS</td>\n",
       "      <td>12157</td>\n",
       "    </tr>\n",
       "    <tr>\n",
       "      <th>5</th>\n",
       "      <td>1796926</td>\n",
       "      <td>$35433.24</td>\n",
       "      <td>16:45:02</td>\n",
       "      <td>SUCCESS</td>\n",
       "      <td>64932</td>\n",
       "    </tr>\n",
       "    <tr>\n",
       "      <th>6</th>\n",
       "      <td>4426801</td>\n",
       "      <td>$56370.28</td>\n",
       "      <td>00:11:14</td>\n",
       "      <td>SUCCESS</td>\n",
       "      <td>74289</td>\n",
       "    </tr>\n",
       "    <tr>\n",
       "      <th>7</th>\n",
       "      <td>4915518</td>\n",
       "      <td>$22432.00</td>\n",
       "      <td>20:33:22</td>\n",
       "      <td>SUCCESS</td>\n",
       "      <td>97280</td>\n",
       "    </tr>\n",
       "    <tr>\n",
       "      <th>8</th>\n",
       "      <td>6304158</td>\n",
       "      <td>$79451.55</td>\n",
       "      <td>05:08:00</td>\n",
       "      <td>SUCCESS</td>\n",
       "      <td>66641</td>\n",
       "    </tr>\n",
       "    <tr>\n",
       "      <th>9</th>\n",
       "      <td>5219665</td>\n",
       "      <td>$90261.02</td>\n",
       "      <td>00:36:12</td>\n",
       "      <td>SUCCESS</td>\n",
       "      <td>31971</td>\n",
       "    </tr>\n",
       "  </tbody>\n",
       "</table>\n",
       "</div>"
      ],
      "text/plain": [
       "   TRANSACTION ID TRANSACTION AMOUNT TRANSACTION TIME   STATUS  CUSTOMER ID\n",
       "0         8341882          $42001.28         19:15:49  SUCCESS        57849\n",
       "1         8299034          $28211.43         21:06:46  SUCCESS        37152\n",
       "2         9968591          $38568.93         22:29:00  SUCCESS        82764\n",
       "3         3247352          $56198.97         20:43:55  SUCCESS        63798\n",
       "4         4507010           $2991.17         14:25:15  SUCCESS        12157\n",
       "5         1796926          $35433.24         16:45:02  SUCCESS        64932\n",
       "6         4426801          $56370.28         00:11:14  SUCCESS        74289\n",
       "7         4915518          $22432.00         20:33:22  SUCCESS        97280\n",
       "8         6304158          $79451.55         05:08:00  SUCCESS        66641\n",
       "9         5219665          $90261.02         00:36:12  SUCCESS        31971"
      ]
     },
     "execution_count": 9,
     "metadata": {},
     "output_type": "execute_result"
    }
   ],
   "source": [
    "df = pd.read_sql_query(\"SELECT * FROM TRANSACTION WHERE status = 'success';\", connection)\n",
    "df.head(10)"
   ]
  },
  {
   "cell_type": "markdown",
   "id": "93b22bb0",
   "metadata": {},
   "source": [
    "## Data Visualization"
   ]
  },
  {
   "cell_type": "code",
   "execution_count": 10,
   "id": "75788760",
   "metadata": {},
   "outputs": [],
   "source": [
    "import pandas as pd\n",
    "import seaborn as sns\n",
    "import matplotlib.pyplot as plt"
   ]
  },
  {
   "cell_type": "code",
   "execution_count": 11,
   "id": "fd8ba37c",
   "metadata": {},
   "outputs": [
    {
     "data": {
      "image/png": "[encoded data removed]",
      "text/plain": [
       "<Figure size 576x576 with 1 Axes>"
      ]
     },
     "metadata": {},
     "output_type": "display_data"
    }
   ],
   "source": [
    "connection = mysql.connector.connect(\n",
    "    host='localhost',\n",
    "    database='bank_database',\n",
    "    user='root',\n",
    "    password='pramothguhan12'\n",
    ")\n",
    "\n",
    "cursor = connection.cursor()\n",
    "\n",
    "# SQL query to get the number of loans in each branch\n",
    "query = \"\"\"\n",
    "SELECT `BRANCH ID`, COUNT(*) AS NUMBER_OF_LOANS\n",
    "FROM `LOAN`\n",
    "GROUP BY `BRANCH ID`\n",
    "ORDER BY NUMBER_OF_LOANS DESC\n",
    "LIMIT 10;\n",
    "\"\"\"\n",
    "cursor.execute(query)\n",
    "\n",
    "data = cursor.fetchall()\n",
    "df = pd.DataFrame(data, columns=['BRANCH ID', 'NUMBER_OF_LOANS'])\n",
    "\n",
    "cursor.close()\n",
    "connection.close()\n",
    "\n",
    "\n",
    "\n",
    "custom_colors = ['#1f77b4', '#ff7f0e', '#2ca02c', '#d62728', '#9467bd',\n",
    "                 '#8c564b', '#e377c2', '#7f7f7f', '#bcbd22', '#17becf']\n",
    "\n",
    "plt.figure(figsize=(8, 8))\n",
    "plt.pie(df['NUMBER_OF_LOANS'], labels = ['Branch ID = ' + str(branch_id) for branch_id in df['BRANCH ID']], autopct='%1.1f%%', colors=custom_colors)\n",
    "plt.title('Distribution of Loans Among Top 10 Branches')\n",
    "plt.show()\n"
   ]
  },
  {
   "cell_type": "code",
   "execution_count": 12,
   "id": "6c930693",
   "metadata": {
    "scrolled": true
   },
   "outputs": [
    {
     "data": {
      "image/png": "[encoded data removed]",
      "text/plain": [
       "<Figure size 864x432 with 1 Axes>"
      ]
     },
     "metadata": {
      "needs_background": "light"
     },
     "output_type": "display_data"
    }
   ],
   "source": [
    "connection = mysql.connector.connect(\n",
    "    host='localhost',\n",
    "    database='bank_database',\n",
    "    user='root',\n",
    "    password='pramothguhan12'\n",
    ")\n",
    "\n",
    "\n",
    "cursor = connection.cursor()\n",
    "\n",
    "# SQL query to get the top 10 customers with the maximum credit score\n",
    "query = \"\"\"\n",
    "SELECT `CUSTOMER`.`CUSTOMER NAME`, `CREDITCARD`.`CUSTOMER ID`, MAX(`CREDITCARD`.`SCORE`) AS `MAX_CREDIT_SCORE`\n",
    "FROM `CREDITCARD`\n",
    "JOIN `CUSTOMER` ON `CREDITCARD`.`CUSTOMER ID` = `CUSTOMER`.`CUSTOMER ID`\n",
    "GROUP BY `CREDITCARD`.`CUSTOMER ID`, `CUSTOMER`.`CUSTOMER NAME`\n",
    "ORDER BY `MAX_CREDIT_SCORE` DESC\n",
    "LIMIT 10;\n",
    "\"\"\"\n",
    "cursor.execute(query)\n",
    "\n",
    "\n",
    "data = cursor.fetchall()\n",
    "df = pd.DataFrame(data, columns=['CUSTOMER NAME', 'CUSTOMER ID', 'MAX_CREDIT_SCORE'])\n",
    "\n",
    "cursor.close()\n",
    "connection.close()\n",
    "\n",
    "\n",
    "\n",
    "x_labels = [f'{name}\\n(Customer ID: {customer_id})' for name, customer_id in zip(df['CUSTOMER NAME'], df['CUSTOMER ID'])]\n",
    "\n",
    "plt.figure(figsize=(12, 6))\n",
    "bars = plt.bar(range(len(df)), df['MAX_CREDIT_SCORE'], color='skyblue')\n",
    "plt.xlabel('Customer Name (Customer ID)')\n",
    "plt.ylabel('Maximum Credit Score')\n",
    "plt.title('Top 10 Customers with Maximum Credit Score')\n",
    "plt.xticks(range(len(df)), x_labels, rotation=45, ha='right')\n",
    "plt.tight_layout()\n",
    "\n",
    "for bar, score in zip(bars, df['MAX_CREDIT_SCORE']):\n",
    "    plt.text(bar.get_x() + bar.get_width() / 2, bar.get_height(), f'{score}',\n",
    "             ha='center', va='bottom', color='black')\n",
    "\n",
    "plt.show()\n"
   ]
  },
  {
   "cell_type": "code",
   "execution_count": 13,
   "id": "15d94020",
   "metadata": {},
   "outputs": [
    {
     "name": "stderr",
     "output_type": "stream",
     "text": [
      "C:\\Users\\pramo\\anaconda3\\lib\\site-packages\\pandas\\io\\sql.py:761: UserWarning: pandas only support SQLAlchemy connectable(engine/connection) ordatabase string URI or sqlite3 DBAPI2 connectionother DBAPI2 objects are not tested, please consider using SQLAlchemy\n",
      "  warnings.warn(\n",
      "C:\\Users\\pramo\\anaconda3\\lib\\site-packages\\pandas\\io\\sql.py:761: UserWarning: pandas only support SQLAlchemy connectable(engine/connection) ordatabase string URI or sqlite3 DBAPI2 connectionother DBAPI2 objects are not tested, please consider using SQLAlchemy\n",
      "  warnings.warn(\n",
      "C:\\Users\\pramo\\anaconda3\\lib\\site-packages\\pandas\\io\\sql.py:761: UserWarning: pandas only support SQLAlchemy connectable(engine/connection) ordatabase string URI or sqlite3 DBAPI2 connectionother DBAPI2 objects are not tested, please consider using SQLAlchemy\n",
      "  warnings.warn(\n"
     ]
    }
   ],
   "source": [
    "connection = mysql.connector.connect(\n",
    "        host='localhost',\n",
    "        database='bank_database',\n",
    "        user='root',\n",
    "        password='pramothguhan12',\n",
    "    )\n",
    "\n",
    "account_df = pd.read_sql(\"SELECT * FROM ACCOUNT\", con=connection)\n",
    "customer_df = pd.read_sql(\"SELECT * FROM CUSTOMER\", con=connection)\n",
    "loan_df = pd.read_sql(\"SELECT * FROM LOAN\", con=connection)\n",
    "\n",
    "account_df['ACCOUNT BALANCE'] = account_df['ACCOUNT BALANCE'].replace('[\\$,]', '', regex=True).astype(float)\n",
    "customer_df['INCOME'] = customer_df['INCOME'].replace('[\\$,]', '', regex=True).astype(float)\n",
    "loan_df['LOAN AMOUNT'] = loan_df['LOAN AMOUNT'].replace('[\\$,]', '', regex=True).astype(float)\n"
   ]
  },
  {
   "cell_type": "code",
   "execution_count": 14,
   "id": "14347fb3",
   "metadata": {},
   "outputs": [
    {
     "data": {
      "image/png": "[encoded data removed]",
      "text/plain": [
       "<Figure size 576x432 with 1 Axes>"
      ]
     },
     "metadata": {},
     "output_type": "display_data"
    }
   ],
   "source": [
    "# Pie chart for Account Types\n",
    "plt.figure(figsize=(8,6))\n",
    "account_types = account_df['ACCOUNT TYPE'].value_counts()\n",
    "account_types.plot.pie(autopct='%1.1f%%', startangle=90)\n",
    "plt.ylabel('')\n",
    "plt.title('Pie Chart of Account Types')\n",
    "\n",
    "plt.annotate('Savings', xy=(0.3, 0.5), xytext=(0.5, 0.6),\n",
    "             arrowprops=dict(facecolor='black', shrink=0.05))\n",
    "plt.annotate('Checkin', xy=(-0.6, -0.4), xytext=(-0.8, -0.6),\n",
    "             arrowprops=dict(facecolor='black', shrink=0.05))\n",
    "\n",
    "plt.show()"
   ]
  },
  {
   "cell_type": "code",
   "execution_count": 15,
   "id": "5a7cea9a",
   "metadata": {},
   "outputs": [
    {
     "data": {
      "image/png": "[encoded data removed]",
      "text/plain": [
       "<Figure size 864x576 with 1 Axes>"
      ]
     },
     "metadata": {
      "needs_background": "light"
     },
     "output_type": "display_data"
    }
   ],
   "source": [
    "# Histogram for Customer Incomes\n",
    "plt.figure(figsize=(12, 8))\n",
    "sns.histplot(customer_df['INCOME'], bins=30, kde=False)\n",
    "plt.title('Histogram of Customer Incomes')\n",
    "plt.show()"
   ]
  },
  {
   "cell_type": "code",
   "execution_count": 16,
   "id": "ed66b6f6",
   "metadata": {},
   "outputs": [
    {
     "data": {
      "image/png": "[encoded data removed]",
      "text/plain": [
       "<Figure size 864x720 with 1 Axes>"
      ]
     },
     "metadata": {
      "needs_background": "light"
     },
     "output_type": "display_data"
    }
   ],
   "source": [
    "# Boxplot for Loan Amounts\n",
    "plt.figure(figsize=(12, 10))\n",
    "sns.boxplot(x=loan_df['LOAN AMOUNT'])\n",
    "plt.title('Boxplot of Loan Amounts')\n",
    "plt.xlabel('Loan Amount ($)')\n",
    "plt.show()"
   ]
  }
 ],
 "metadata": {
  "kernelspec": {
   "display_name": "Python 3 (ipykernel)",
   "language": "python",
   "name": "python3"
  },
  "language_info": {
   "codemirror_mode": {
    "name": "ipython",
    "version": 3
   },
   "file_extension": ".py",
   "mimetype": "text/x-python",
   "name": "python",
   "nbconvert_exporter": "python",
   "pygments_lexer": "ipython3",
   "version": "3.9.12"
  }
 },
 "nbformat": 4,
 "nbformat_minor": 5
}
